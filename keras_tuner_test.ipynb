{
 "cells": [
  {
   "cell_type": "code",
   "execution_count": 1,
   "outputs": [],
   "source": [
    "import tensorflow as tf\n",
    "from tensorflow import keras\n",
    "import keras_tuner as kt\n",
    "\n",
    "'''\n",
    "The my_dir/intro_to_kt directory contains detailed logs and checkpoints for every trial (model configuration) run during the hyperparameter search. If you re-run the hyperparameter search, the Keras Tuner uses the existing state from these logs to resume the search. To disable this behavior, pass an additional overwrite=True argument while instantiating the tuner.\n",
    "'''\n"
   ],
   "metadata": {
    "collapsed": false,
    "ExecuteTime": {
     "end_time": "2023-11-09T23:19:33.374725300Z",
     "start_time": "2023-11-09T23:19:28.345810700Z"
    }
   },
   "id": "b3b2e11a2f4fe564"
  },
  {
   "cell_type": "code",
   "execution_count": 2,
   "outputs": [
    {
     "name": "stdout",
     "output_type": "stream",
     "text": [
      "Downloading data from https://storage.googleapis.com/tensorflow/tf-keras-datasets/train-labels-idx1-ubyte.gz\n",
      "29515/29515 [==============================] - 0s 0us/step\n",
      "Downloading data from https://storage.googleapis.com/tensorflow/tf-keras-datasets/train-images-idx3-ubyte.gz\n",
      "26421880/26421880 [==============================] - 0s 0us/step\n",
      "Downloading data from https://storage.googleapis.com/tensorflow/tf-keras-datasets/t10k-labels-idx1-ubyte.gz\n",
      "5148/5148 [==============================] - 0s 0s/step\n",
      "Downloading data from https://storage.googleapis.com/tensorflow/tf-keras-datasets/t10k-images-idx3-ubyte.gz\n",
      "4422102/4422102 [==============================] - 0s 0us/step\n"
     ]
    }
   ],
   "source": [
    "(img_train, label_train), (img_test, label_test) = keras.datasets.fashion_mnist.load_data()\n"
   ],
   "metadata": {
    "collapsed": false,
    "ExecuteTime": {
     "end_time": "2023-11-09T23:20:03.751472600Z",
     "start_time": "2023-11-09T23:20:02.504218900Z"
    }
   },
   "id": "24bb14b789689fca"
  },
  {
   "cell_type": "code",
   "execution_count": 3,
   "outputs": [],
   "source": [
    "# Normalize pixel values between 0 and 1\n",
    "img_train = img_train.astype('float32') / 255.0\n",
    "img_test = img_test.astype('float32') / 255.0"
   ],
   "metadata": {
    "collapsed": false,
    "ExecuteTime": {
     "end_time": "2023-11-09T23:20:17.756716300Z",
     "start_time": "2023-11-09T23:20:17.647195800Z"
    }
   },
   "id": "1c5319e7ac75fe0e"
  },
  {
   "cell_type": "code",
   "execution_count": 4,
   "outputs": [],
   "source": [
    "def model_builder(hp):\n",
    "    model = keras.Sequential()\n",
    "    model.add(keras.layers.Flatten(input_shape=(28, 28)))\n",
    "\n",
    "    # Tune the number of units in the first Dense layer\n",
    "    # Choose an optimal value between 32-512\n",
    "    hp_units = hp.Int('units', min_value=32, max_value=512, step=32)\n",
    "    model.add(keras.layers.Dense(units=hp_units, activation='relu'))\n",
    "    model.add(keras.layers.Dense(10))\n",
    "\n",
    "    # Tune the learning rate for the optimizer\n",
    "    # Choose an optimal value from 0.01, 0.001, or 0.0001\n",
    "    hp_learning_rate = hp.Choice('learning_rate', values=[1e-2, 1e-3, 1e-4])\n",
    "\n",
    "    model.compile(optimizer=keras.optimizers.Adam(learning_rate=hp_learning_rate),\n",
    "                  loss=keras.losses.SparseCategoricalCrossentropy(from_logits=True),\n",
    "                  metrics=['accuracy'])\n",
    "\n",
    "    return model"
   ],
   "metadata": {
    "collapsed": false,
    "ExecuteTime": {
     "end_time": "2023-11-09T23:20:41.295711600Z",
     "start_time": "2023-11-09T23:20:41.275706300Z"
    }
   },
   "id": "8f795740566057d8"
  },
  {
   "cell_type": "code",
   "execution_count": 5,
   "outputs": [],
   "source": [
    "tuner = kt.Hyperband(model_builder,\n",
    "                     objective='val_accuracy',\n",
    "                     max_epochs=10,\n",
    "                     factor=3,\n",
    "                     directory='my_dir',\n",
    "                     project_name='intro_to_kt')\n",
    "\n"
   ],
   "metadata": {
    "collapsed": false,
    "ExecuteTime": {
     "end_time": "2023-11-09T23:20:59.714598Z",
     "start_time": "2023-11-09T23:20:56.592971300Z"
    }
   },
   "id": "fa9b2b05e0c8bbc3"
  },
  {
   "cell_type": "code",
   "execution_count": 6,
   "outputs": [],
   "source": [
    "stop_early = tf.keras.callbacks.EarlyStopping(monitor='val_loss', patience=5)\n"
   ],
   "metadata": {
    "collapsed": false,
    "ExecuteTime": {
     "end_time": "2023-11-09T23:21:22.748317200Z",
     "start_time": "2023-11-09T23:21:22.738318400Z"
    }
   },
   "id": "fc4f52d64e07ec2c"
  },
  {
   "cell_type": "code",
   "execution_count": 7,
   "outputs": [
    {
     "name": "stdout",
     "output_type": "stream",
     "text": [
      "Trial 30 Complete [00h 01m 11s]\n",
      "val_accuracy: 0.8919166922569275\n",
      "\n",
      "Best val_accuracy So Far: 0.8919166922569275\n",
      "Total elapsed time: 00h 15m 36s\n",
      "\n",
      "The hyperparameter search is complete. The optimal number of units in the first densely-connected\n",
      "layer is 416 and the optimal learning rate for the optimizer\n",
      "is 0.001.\n"
     ]
    }
   ],
   "source": [
    "tuner.search(img_train, label_train, epochs=50, validation_split=0.2, callbacks=[stop_early])\n",
    "\n",
    "# Get the optimal hyperparameters\n",
    "best_hps=tuner.get_best_hyperparameters(num_trials=1)[0]\n",
    "\n",
    "print(f\"\"\"\n",
    "The hyperparameter search is complete. The optimal number of units in the first densely-connected\n",
    "layer is {best_hps.get('units')} and the optimal learning rate for the optimizer\n",
    "is {best_hps.get('learning_rate')}.\n",
    "\"\"\")"
   ],
   "metadata": {
    "collapsed": false
   },
   "id": "6e22e328d3214b55"
  },
  {
   "cell_type": "code",
   "execution_count": 8,
   "outputs": [
    {
     "name": "stdout",
     "output_type": "stream",
     "text": [
      "Epoch 1/50\n",
      "1500/1500 [==============================] - 7s 5ms/step - loss: 0.4945 - accuracy: 0.8250 - val_loss: 0.4055 - val_accuracy: 0.8548\n",
      "Epoch 2/50\n",
      "1500/1500 [==============================] - 8s 5ms/step - loss: 0.3684 - accuracy: 0.8658 - val_loss: 0.3814 - val_accuracy: 0.8625\n",
      "Epoch 3/50\n",
      "1500/1500 [==============================] - 7s 4ms/step - loss: 0.3301 - accuracy: 0.8779 - val_loss: 0.3550 - val_accuracy: 0.8731\n",
      "Epoch 4/50\n",
      "1500/1500 [==============================] - 7s 5ms/step - loss: 0.3069 - accuracy: 0.8863 - val_loss: 0.3552 - val_accuracy: 0.8723\n",
      "Epoch 5/50\n",
      "1500/1500 [==============================] - 7s 5ms/step - loss: 0.2864 - accuracy: 0.8938 - val_loss: 0.3410 - val_accuracy: 0.8790\n",
      "Epoch 6/50\n",
      "1500/1500 [==============================] - 7s 4ms/step - loss: 0.2697 - accuracy: 0.8996 - val_loss: 0.3323 - val_accuracy: 0.8810\n",
      "Epoch 7/50\n",
      "1500/1500 [==============================] - 7s 5ms/step - loss: 0.2561 - accuracy: 0.9035 - val_loss: 0.3168 - val_accuracy: 0.8887\n",
      "Epoch 8/50\n",
      "1500/1500 [==============================] - 7s 4ms/step - loss: 0.2453 - accuracy: 0.9076 - val_loss: 0.3179 - val_accuracy: 0.8885\n",
      "Epoch 9/50\n",
      "1500/1500 [==============================] - 7s 5ms/step - loss: 0.2342 - accuracy: 0.9126 - val_loss: 0.3421 - val_accuracy: 0.8818\n",
      "Epoch 10/50\n",
      "1500/1500 [==============================] - 7s 4ms/step - loss: 0.2268 - accuracy: 0.9146 - val_loss: 0.3231 - val_accuracy: 0.8853\n",
      "Epoch 11/50\n",
      "1500/1500 [==============================] - 7s 5ms/step - loss: 0.2162 - accuracy: 0.9181 - val_loss: 0.3199 - val_accuracy: 0.8884\n",
      "Epoch 12/50\n",
      "1500/1500 [==============================] - 7s 4ms/step - loss: 0.2068 - accuracy: 0.9226 - val_loss: 0.3119 - val_accuracy: 0.8941\n",
      "Epoch 13/50\n",
      "1500/1500 [==============================] - 7s 4ms/step - loss: 0.2002 - accuracy: 0.9257 - val_loss: 0.3079 - val_accuracy: 0.8956\n",
      "Epoch 14/50\n",
      "1500/1500 [==============================] - 7s 4ms/step - loss: 0.1936 - accuracy: 0.9272 - val_loss: 0.3333 - val_accuracy: 0.8926\n",
      "Epoch 15/50\n",
      "1500/1500 [==============================] - 7s 4ms/step - loss: 0.1863 - accuracy: 0.9303 - val_loss: 0.3281 - val_accuracy: 0.8923\n",
      "Epoch 16/50\n",
      "1500/1500 [==============================] - 7s 5ms/step - loss: 0.1793 - accuracy: 0.9338 - val_loss: 0.3189 - val_accuracy: 0.8943\n",
      "Epoch 17/50\n",
      "1500/1500 [==============================] - 6s 4ms/step - loss: 0.1747 - accuracy: 0.9345 - val_loss: 0.3551 - val_accuracy: 0.8917\n",
      "Epoch 18/50\n",
      "1500/1500 [==============================] - 7s 4ms/step - loss: 0.1691 - accuracy: 0.9365 - val_loss: 0.3338 - val_accuracy: 0.8939\n",
      "Epoch 19/50\n",
      "1500/1500 [==============================] - 7s 4ms/step - loss: 0.1623 - accuracy: 0.9389 - val_loss: 0.3278 - val_accuracy: 0.8923\n",
      "Epoch 20/50\n",
      "1500/1500 [==============================] - 7s 4ms/step - loss: 0.1590 - accuracy: 0.9392 - val_loss: 0.3329 - val_accuracy: 0.8972\n",
      "Epoch 21/50\n",
      "1500/1500 [==============================] - 7s 5ms/step - loss: 0.1530 - accuracy: 0.9413 - val_loss: 0.3462 - val_accuracy: 0.8947\n",
      "Epoch 22/50\n",
      "1500/1500 [==============================] - 7s 5ms/step - loss: 0.1484 - accuracy: 0.9438 - val_loss: 0.3680 - val_accuracy: 0.8947\n",
      "Epoch 23/50\n",
      "1500/1500 [==============================] - 7s 4ms/step - loss: 0.1425 - accuracy: 0.9457 - val_loss: 0.3722 - val_accuracy: 0.8877\n",
      "Epoch 24/50\n",
      "1500/1500 [==============================] - 7s 4ms/step - loss: 0.1394 - accuracy: 0.9477 - val_loss: 0.3650 - val_accuracy: 0.8971\n",
      "Epoch 25/50\n",
      "1500/1500 [==============================] - 7s 5ms/step - loss: 0.1357 - accuracy: 0.9488 - val_loss: 0.3775 - val_accuracy: 0.8898\n",
      "Epoch 26/50\n",
      "1500/1500 [==============================] - 7s 5ms/step - loss: 0.1327 - accuracy: 0.9497 - val_loss: 0.3868 - val_accuracy: 0.8866\n",
      "Epoch 27/50\n",
      "1500/1500 [==============================] - 7s 4ms/step - loss: 0.1302 - accuracy: 0.9507 - val_loss: 0.3677 - val_accuracy: 0.8982\n",
      "Epoch 28/50\n",
      "1500/1500 [==============================] - 7s 5ms/step - loss: 0.1249 - accuracy: 0.9529 - val_loss: 0.3701 - val_accuracy: 0.8938\n",
      "Epoch 29/50\n",
      "1500/1500 [==============================] - 7s 4ms/step - loss: 0.1198 - accuracy: 0.9540 - val_loss: 0.3767 - val_accuracy: 0.8988\n",
      "Epoch 30/50\n",
      "1500/1500 [==============================] - 7s 4ms/step - loss: 0.1168 - accuracy: 0.9565 - val_loss: 0.3959 - val_accuracy: 0.8920\n",
      "Epoch 31/50\n",
      "1500/1500 [==============================] - 7s 4ms/step - loss: 0.1201 - accuracy: 0.9550 - val_loss: 0.3892 - val_accuracy: 0.8954\n",
      "Epoch 32/50\n",
      "1500/1500 [==============================] - 7s 4ms/step - loss: 0.1129 - accuracy: 0.9577 - val_loss: 0.4137 - val_accuracy: 0.8919\n",
      "Epoch 33/50\n",
      "1500/1500 [==============================] - 7s 4ms/step - loss: 0.1106 - accuracy: 0.9592 - val_loss: 0.4629 - val_accuracy: 0.8877\n",
      "Epoch 34/50\n",
      "1500/1500 [==============================] - 7s 4ms/step - loss: 0.1081 - accuracy: 0.9590 - val_loss: 0.4223 - val_accuracy: 0.8978\n",
      "Epoch 35/50\n",
      "1500/1500 [==============================] - 7s 5ms/step - loss: 0.1032 - accuracy: 0.9620 - val_loss: 0.4260 - val_accuracy: 0.8973\n",
      "Epoch 36/50\n",
      "1500/1500 [==============================] - 7s 4ms/step - loss: 0.1016 - accuracy: 0.9609 - val_loss: 0.4383 - val_accuracy: 0.8912\n",
      "Epoch 37/50\n",
      "1500/1500 [==============================] - 7s 5ms/step - loss: 0.1021 - accuracy: 0.9619 - val_loss: 0.4322 - val_accuracy: 0.8963\n",
      "Epoch 38/50\n",
      "1500/1500 [==============================] - 7s 4ms/step - loss: 0.0954 - accuracy: 0.9647 - val_loss: 0.4294 - val_accuracy: 0.8950\n",
      "Epoch 39/50\n",
      "1500/1500 [==============================] - 7s 4ms/step - loss: 0.0963 - accuracy: 0.9638 - val_loss: 0.4390 - val_accuracy: 0.8963\n",
      "Epoch 40/50\n",
      "1500/1500 [==============================] - 7s 5ms/step - loss: 0.0946 - accuracy: 0.9645 - val_loss: 0.4521 - val_accuracy: 0.8968\n",
      "Epoch 41/50\n",
      "1500/1500 [==============================] - 7s 4ms/step - loss: 0.0904 - accuracy: 0.9660 - val_loss: 0.4550 - val_accuracy: 0.8942\n",
      "Epoch 42/50\n",
      "1500/1500 [==============================] - 7s 5ms/step - loss: 0.0910 - accuracy: 0.9664 - val_loss: 0.4625 - val_accuracy: 0.8906\n",
      "Epoch 43/50\n",
      "1500/1500 [==============================] - 7s 4ms/step - loss: 0.0866 - accuracy: 0.9673 - val_loss: 0.4880 - val_accuracy: 0.8980\n",
      "Epoch 44/50\n",
      "1500/1500 [==============================] - 7s 4ms/step - loss: 0.0847 - accuracy: 0.9682 - val_loss: 0.4795 - val_accuracy: 0.8979\n",
      "Epoch 45/50\n",
      "1500/1500 [==============================] - 7s 5ms/step - loss: 0.0865 - accuracy: 0.9680 - val_loss: 0.5355 - val_accuracy: 0.8882\n",
      "Epoch 46/50\n",
      "1500/1500 [==============================] - 7s 4ms/step - loss: 0.0813 - accuracy: 0.9697 - val_loss: 0.4708 - val_accuracy: 0.8961\n",
      "Epoch 47/50\n",
      "1500/1500 [==============================] - 7s 5ms/step - loss: 0.0813 - accuracy: 0.9686 - val_loss: 0.5260 - val_accuracy: 0.8913\n",
      "Epoch 48/50\n",
      "1500/1500 [==============================] - 7s 5ms/step - loss: 0.0771 - accuracy: 0.9708 - val_loss: 0.5413 - val_accuracy: 0.8969\n",
      "Epoch 49/50\n",
      "1500/1500 [==============================] - 7s 5ms/step - loss: 0.0776 - accuracy: 0.9714 - val_loss: 0.5025 - val_accuracy: 0.8986\n",
      "Epoch 50/50\n",
      "1500/1500 [==============================] - 7s 4ms/step - loss: 0.0767 - accuracy: 0.9707 - val_loss: 0.5354 - val_accuracy: 0.8963\n",
      "Best epoch: 29\n"
     ]
    }
   ],
   "source": [
    "# Find the optimal number of epochs to train the model with the hyperparameters obtained from the search.\n",
    "\n",
    "# Build the model with the optimal hyperparameters and train it on the data for 50 epochs\n",
    "model = tuner.hypermodel.build(best_hps)\n",
    "history = model.fit(img_train, label_train, epochs=50, validation_split=0.2)\n",
    "\n",
    "val_acc_per_epoch = history.history['val_accuracy']\n",
    "best_epoch = val_acc_per_epoch.index(max(val_acc_per_epoch)) + 1\n",
    "print('Best epoch: %d' % (best_epoch,))"
   ],
   "metadata": {
    "collapsed": false,
    "ExecuteTime": {
     "end_time": "2023-11-09T23:46:30.107786600Z",
     "start_time": "2023-11-09T23:40:50.578565100Z"
    }
   },
   "id": "93e0e2a946f0f700"
  },
  {
   "cell_type": "code",
   "execution_count": 9,
   "outputs": [
    {
     "name": "stdout",
     "output_type": "stream",
     "text": [
      "Epoch 1/29\n",
      "1500/1500 [==============================] - 8s 5ms/step - loss: 0.4916 - accuracy: 0.8264 - val_loss: 0.3957 - val_accuracy: 0.8562\n",
      "Epoch 2/29\n",
      "1500/1500 [==============================] - 6s 4ms/step - loss: 0.3703 - accuracy: 0.8651 - val_loss: 0.3669 - val_accuracy: 0.8630\n",
      "Epoch 3/29\n",
      "1500/1500 [==============================] - 7s 5ms/step - loss: 0.3316 - accuracy: 0.8783 - val_loss: 0.3412 - val_accuracy: 0.8766\n",
      "Epoch 4/29\n",
      "1500/1500 [==============================] - 7s 5ms/step - loss: 0.3073 - accuracy: 0.8865 - val_loss: 0.3592 - val_accuracy: 0.8733\n",
      "Epoch 5/29\n",
      "1500/1500 [==============================] - 7s 5ms/step - loss: 0.2862 - accuracy: 0.8940 - val_loss: 0.3293 - val_accuracy: 0.8828\n",
      "Epoch 6/29\n",
      "1500/1500 [==============================] - 7s 4ms/step - loss: 0.2710 - accuracy: 0.8989 - val_loss: 0.3175 - val_accuracy: 0.8853\n",
      "Epoch 7/29\n",
      "1500/1500 [==============================] - 7s 4ms/step - loss: 0.2552 - accuracy: 0.9047 - val_loss: 0.3284 - val_accuracy: 0.8852\n",
      "Epoch 8/29\n",
      "1500/1500 [==============================] - 7s 4ms/step - loss: 0.2460 - accuracy: 0.9074 - val_loss: 0.3152 - val_accuracy: 0.8856\n",
      "Epoch 9/29\n",
      "1500/1500 [==============================] - 7s 5ms/step - loss: 0.2327 - accuracy: 0.9134 - val_loss: 0.3192 - val_accuracy: 0.8878\n",
      "Epoch 10/29\n",
      "1500/1500 [==============================] - 7s 4ms/step - loss: 0.2261 - accuracy: 0.9146 - val_loss: 0.3063 - val_accuracy: 0.8933\n",
      "Epoch 11/29\n",
      "1500/1500 [==============================] - 6s 4ms/step - loss: 0.2173 - accuracy: 0.9191 - val_loss: 0.3455 - val_accuracy: 0.8882\n",
      "Epoch 12/29\n",
      "1500/1500 [==============================] - 7s 5ms/step - loss: 0.2081 - accuracy: 0.9224 - val_loss: 0.3273 - val_accuracy: 0.8907\n",
      "Epoch 13/29\n",
      "1500/1500 [==============================] - 7s 4ms/step - loss: 0.2003 - accuracy: 0.9246 - val_loss: 0.3208 - val_accuracy: 0.8908\n",
      "Epoch 14/29\n",
      "1500/1500 [==============================] - 7s 4ms/step - loss: 0.1937 - accuracy: 0.9276 - val_loss: 0.3464 - val_accuracy: 0.8888\n",
      "Epoch 15/29\n",
      "1500/1500 [==============================] - 7s 4ms/step - loss: 0.1867 - accuracy: 0.9296 - val_loss: 0.3117 - val_accuracy: 0.8959\n",
      "Epoch 16/29\n",
      "1500/1500 [==============================] - 7s 5ms/step - loss: 0.1798 - accuracy: 0.9323 - val_loss: 0.3281 - val_accuracy: 0.8944\n",
      "Epoch 17/29\n",
      "1500/1500 [==============================] - 7s 4ms/step - loss: 0.1748 - accuracy: 0.9345 - val_loss: 0.3426 - val_accuracy: 0.8929\n",
      "Epoch 18/29\n",
      "1500/1500 [==============================] - 7s 4ms/step - loss: 0.1687 - accuracy: 0.9358 - val_loss: 0.3310 - val_accuracy: 0.8952\n",
      "Epoch 19/29\n",
      "1500/1500 [==============================] - 7s 4ms/step - loss: 0.1619 - accuracy: 0.9400 - val_loss: 0.3630 - val_accuracy: 0.8902\n",
      "Epoch 20/29\n",
      "1500/1500 [==============================] - 7s 5ms/step - loss: 0.1598 - accuracy: 0.9392 - val_loss: 0.3592 - val_accuracy: 0.8905\n",
      "Epoch 21/29\n",
      "1500/1500 [==============================] - 6s 4ms/step - loss: 0.1516 - accuracy: 0.9439 - val_loss: 0.3582 - val_accuracy: 0.8903\n",
      "Epoch 22/29\n",
      "1500/1500 [==============================] - 7s 5ms/step - loss: 0.1468 - accuracy: 0.9447 - val_loss: 0.3541 - val_accuracy: 0.8973\n",
      "Epoch 23/29\n",
      "1500/1500 [==============================] - 7s 5ms/step - loss: 0.1426 - accuracy: 0.9455 - val_loss: 0.3512 - val_accuracy: 0.8972\n",
      "Epoch 24/29\n",
      "1500/1500 [==============================] - 7s 5ms/step - loss: 0.1400 - accuracy: 0.9488 - val_loss: 0.3846 - val_accuracy: 0.8891\n",
      "Epoch 25/29\n",
      "1500/1500 [==============================] - 7s 4ms/step - loss: 0.1352 - accuracy: 0.9496 - val_loss: 0.3804 - val_accuracy: 0.8905\n",
      "Epoch 26/29\n",
      "1500/1500 [==============================] - 7s 5ms/step - loss: 0.1303 - accuracy: 0.9505 - val_loss: 0.3801 - val_accuracy: 0.8951\n",
      "Epoch 27/29\n",
      "1500/1500 [==============================] - 7s 4ms/step - loss: 0.1258 - accuracy: 0.9522 - val_loss: 0.3997 - val_accuracy: 0.8893\n",
      "Epoch 28/29\n",
      "1500/1500 [==============================] - 7s 4ms/step - loss: 0.1282 - accuracy: 0.9523 - val_loss: 0.3724 - val_accuracy: 0.8953\n",
      "Epoch 29/29\n",
      "1500/1500 [==============================] - 7s 5ms/step - loss: 0.1216 - accuracy: 0.9543 - val_loss: 0.4214 - val_accuracy: 0.8886\n"
     ]
    },
    {
     "data": {
      "text/plain": "<keras.callbacks.History at 0x2817222f6a0>"
     },
     "execution_count": 9,
     "metadata": {},
     "output_type": "execute_result"
    }
   ],
   "source": [
    "# Re-instantiate the hypermodel and train it with the optimal number of epochs from above.\n",
    "\n",
    "hypermodel = tuner.hypermodel.build(best_hps)\n",
    "\n",
    "# Retrain the model\n",
    "hypermodel.fit(img_train, label_train, epochs=best_epoch, validation_split=0.2)"
   ],
   "metadata": {
    "collapsed": false,
    "ExecuteTime": {
     "end_time": "2023-11-09T23:51:12.509561700Z",
     "start_time": "2023-11-09T23:47:55.869600500Z"
    }
   },
   "id": "17fa3cc8e4c0bdc"
  },
  {
   "cell_type": "code",
   "execution_count": 10,
   "outputs": [
    {
     "name": "stdout",
     "output_type": "stream",
     "text": [
      "313/313 [==============================] - 2s 5ms/step - loss: 0.4609 - accuracy: 0.8853\n",
      "[test loss, test accuracy]: [0.46086248755455017, 0.8852999806404114]\n"
     ]
    }
   ],
   "source": [
    "# To finish this tutorial, evaluate the hypermodel on the test data.\n",
    "\n",
    "eval_result = hypermodel.evaluate(img_test, label_test)\n",
    "print(\"[test loss, test accuracy]:\", eval_result)\n",
    "eval_result = hypermodel.evaluate(img_test, label_test)\n",
    "print(\"[test loss, test accuracy]:\", eval_result)"
   ],
   "metadata": {
    "collapsed": false,
    "ExecuteTime": {
     "end_time": "2023-11-09T23:52:32.233143300Z",
     "start_time": "2023-11-09T23:52:30.439467800Z"
    }
   },
   "id": "f95bdaa4cb7842f3"
  },
  {
   "cell_type": "code",
   "execution_count": 11,
   "outputs": [],
   "source": [
    "class SharpeValidationLoss(keras.callbacks.Callback):\n",
    "    # TODO check if weights already exist and pass in best sharpe\n",
    "    def __init__(\n",
    "            self,\n",
    "            inputs,\n",
    "            returns,\n",
    "            time_indices,\n",
    "            num_time,  # including a count for nulls which will be indexed as 0\n",
    "            early_stopping_patience,\n",
    "            n_multiprocessing_workers,\n",
    "            weights_save_location=\"tmp/checkpoint\",\n",
    "            # verbose=0,\n",
    "            min_delta=1e-4,\n",
    "    ):\n",
    "        super(keras.callbacks.Callback, self).__init__()\n",
    "        self.inputs = inputs\n",
    "        self.returns = returns\n",
    "        self.time_indices = time_indices\n",
    "        self.n_multiprocessing_workers = n_multiprocessing_workers\n",
    "        self.early_stopping_patience = early_stopping_patience\n",
    "        self.num_time = num_time\n",
    "        self.min_delta = min_delta\n",
    "\n",
    "        self.best_sharpe = np.NINF  # since calculating positive Sharpe...\n",
    "        # self.best_weights = None\n",
    "        self.weights_save_location = weights_save_location\n",
    "        # self.verbose = verbose\n",
    "\n",
    "    def set_weights_save_loc(self, weights_save_location):\n",
    "        self.weights_save_location = weights_save_location\n",
    "\n",
    "    def on_train_begin(self, logs=None):\n",
    "        self.patience_counter = 0\n",
    "        self.stopped_epoch = 0\n",
    "        self.best_sharpe = np.NINF\n",
    "\n",
    "    def on_epoch_end(self, epoch, logs=None):\n",
    "        positions = self.model.predict(\n",
    "            self.inputs,\n",
    "            workers=self.n_multiprocessing_workers,\n",
    "            use_multiprocessing=True,  # , batch_size=1\n",
    "        )\n",
    "\n",
    "        captured_returns = tf.math.unsorted_segment_mean(\n",
    "            positions * self.returns, self.time_indices, self.num_time\n",
    "        )[1:]\n",
    "        # ignoring null times\n",
    "\n",
    "        # TODO sharpe\n",
    "        sharpe = (\n",
    "                tf.reduce_mean(captured_returns)\n",
    "                / tf.sqrt(\n",
    "            tf.math.reduce_variance(captured_returns)\n",
    "            + tf.constant(1e-9, dtype=tf.float64)\n",
    "        )\n",
    "                * tf.sqrt(tf.constant(252.0, dtype=tf.float64))\n",
    "        ).numpy()\n",
    "        if sharpe > self.best_sharpe + self.min_delta:\n",
    "            self.best_sharpe = sharpe\n",
    "            self.patience_counter = 0  # reset the count\n",
    "            # self.best_weights = self.model.get_weights()\n",
    "            self.model.save_weights(self.weights_save_location)\n",
    "        else:\n",
    "            # if self.verbose: #TODO\n",
    "            self.patience_counter += 1\n",
    "            if self.patience_counter >= self.early_stopping_patience:\n",
    "                self.stopped_epoch = epoch\n",
    "                self.model.stop_training = True\n",
    "                self.model.load_weights(self.weights_save_location)\n",
    "        logs[\"sharpe\"] = sharpe  # for keras tuner\n",
    "        print(f\"\\nval_sharpe {logs['sharpe']}\")\n"
   ],
   "metadata": {
    "collapsed": false,
    "ExecuteTime": {
     "end_time": "2023-11-10T00:07:58.827572Z",
     "start_time": "2023-11-10T00:07:58.802070400Z"
    }
   },
   "id": "4643ab75844cc23"
  },
  {
   "cell_type": "code",
   "execution_count": 12,
   "outputs": [
    {
     "ename": "NameError",
     "evalue": "name 'val_data' is not defined",
     "output_type": "error",
     "traceback": [
      "\u001B[1;31m---------------------------------------------------------------------------\u001B[0m",
      "\u001B[1;31mNameError\u001B[0m                                 Traceback (most recent call last)",
      "Cell \u001B[1;32mIn[12], line 3\u001B[0m\n\u001B[0;32m      1\u001B[0m callbacks \u001B[38;5;241m=\u001B[39m [\n\u001B[0;32m      2\u001B[0m     SharpeValidationLoss(\n\u001B[1;32m----> 3\u001B[0m         \u001B[43mval_data\u001B[49m,\n\u001B[0;32m      4\u001B[0m         val_labels,\n\u001B[0;32m      5\u001B[0m         val_time_indices,\n\u001B[0;32m      6\u001B[0m         num_val_time,\n\u001B[0;32m      7\u001B[0m         \u001B[38;5;28mself\u001B[39m\u001B[38;5;241m.\u001B[39mearly_stopping_patience,\n\u001B[0;32m      8\u001B[0m         \u001B[38;5;28mself\u001B[39m\u001B[38;5;241m.\u001B[39mn_multiprocessing_workers,\n\u001B[0;32m      9\u001B[0m     ),\n\u001B[0;32m     10\u001B[0m     tf\u001B[38;5;241m.\u001B[39mkeras\u001B[38;5;241m.\u001B[39mcallbacks\u001B[38;5;241m.\u001B[39mTerminateOnNaN(),\n\u001B[0;32m     11\u001B[0m ]\n",
      "\u001B[1;31mNameError\u001B[0m: name 'val_data' is not defined"
     ]
    }
   ],
   "source": [
    "#data, labels, active_flags, _, _ = ModelFeatures._unpack(train_data)\n",
    "#val_data, val_labels, val_flags, _, val_time = ModelFeatures._unpack(valid_data)\n",
    "\n",
    "callbacks = [\n",
    "    SharpeValidationLoss(\n",
    "        val_data,\n",
    "        val_labels,\n",
    "        val_time_indices,\n",
    "        num_val_time,\n",
    "        self.early_stopping_patience,\n",
    "        self.n_multiprocessing_workers,\n",
    "    ),\n",
    "    tf.keras.callbacks.TerminateOnNaN(),\n",
    "]\n"
   ],
   "metadata": {
    "collapsed": false,
    "ExecuteTime": {
     "end_time": "2023-11-10T00:09:10.900341600Z",
     "start_time": "2023-11-10T00:09:08.472338700Z"
    }
   },
   "id": "2b3c4e4a43899a67"
  },
  {
   "cell_type": "code",
   "execution_count": null,
   "outputs": [],
   "source": [],
   "metadata": {
    "collapsed": false
   },
   "id": "a6466827cae11449"
  }
 ],
 "metadata": {
  "kernelspec": {
   "display_name": "Python 3",
   "language": "python",
   "name": "python3"
  },
  "language_info": {
   "codemirror_mode": {
    "name": "ipython",
    "version": 2
   },
   "file_extension": ".py",
   "mimetype": "text/x-python",
   "name": "python",
   "nbconvert_exporter": "python",
   "pygments_lexer": "ipython2",
   "version": "2.7.6"
  }
 },
 "nbformat": 4,
 "nbformat_minor": 5
}
